{
 "cells": [
  {
   "cell_type": "markdown",
   "metadata": {},
   "source": [
    "# Exclusive Sum of Products Synthesis Kata\n",
    "\n",
    "This kata provides an introduction into representing Boolean functions in the ESOP form. It is expected to have done the [Truth tables Kata](../TruthTables/TruthTables.ipynb) first.\n",
    "\n",
    "Each task is wrapped in one operation preceded by the description of the task.\n",
    "Your goal is to fill in the blank (marked with `// ...` comments)\n",
    "with some Q# code that solves the task. To verify your answer, run the cell using Ctrl/⌘+Enter."
   ]
  },
  {
   "cell_type": "markdown",
   "metadata": {},
   "source": [
    "To begin, first prepare this notebook for execution (if you skip this step, you'll get \"Syntax does not match any known patterns\" error when you try to execute Q# code in the next cells):"
   ]
  },
  {
   "cell_type": "code",
   "execution_count": 1,
   "metadata": {},
   "outputs": [
    {
     "data": {
      "application/json": "{\"LastUpdated\":\"2020-06-26T15:52:58.286796+02:00\",\"IsCompleted\":true,\"Description\":\"Adding package Microsoft.Quantum.Katas::0.11.2004.2825\",\"Subtask\":\"done\"}",
      "text/plain": [
       "Adding package Microsoft.Quantum.Katas::0.11.2004.2825: done!"
      ]
     },
     "metadata": {},
     "output_type": "display_data"
    },
    {
     "data": {
      "application/json": "[\"Microsoft.Quantum.Standard::0.11.2004.2825\",\"Microsoft.Quantum.Katas::0.11.2004.2825\"]",
      "text/html": [
       "<ul><li>Microsoft.Quantum.Standard::0.11.2004.2825</li><li>Microsoft.Quantum.Katas::0.11.2004.2825</li></ul>"
      ],
      "text/plain": [
       "Microsoft.Quantum.Standard::0.11.2004.2825, Microsoft.Quantum.Katas::0.11.2004.2825"
      ]
     },
     "execution_count": 1,
     "metadata": {},
     "output_type": "execute_result"
    }
   ],
   "source": [
    "%package Microsoft.Quantum.Katas::0.11.2004.2825"
   ]
  },
  {
   "cell_type": "markdown",
   "metadata": {},
   "source": [
    "> The package versions in the output of the cell above should always match. If you are running the Notebooks locally and the versions do not match, please install the IQ# version that matches the version of the `Microsoft.Quantum.Katas` package.\n",
    "> <details>\n",
    "> <summary><u>How to install the right IQ# version</u></summary>\n",
    "> For example, if the version of `Microsoft.Quantum.Katas` package above is 0.1.2.3, the installation steps are as follows:\n",
    ">\n",
    "> 1. Stop the kernel.\n",
    "> 2. Uninstall the existing version of IQ#:\n",
    ">        dotnet tool uninstall microsoft.quantum.iqsharp -g\n",
    "> 3. Install the matching version:\n",
    ">        dotnet tool install microsoft.quantum.iqsharp -g --version 0.1.2.3\n",
    "> 4. Reinstall the kernel:\n",
    ">        dotnet iqsharp install\n",
    "> 5. Restart the Notebook.\n",
    "> </details>\n"
   ]
  },
  {
   "cell_type": "markdown",
   "metadata": {},
   "source": [
    "This tutorial teaches you how to represent Boolean functions as an exclusive form of products.\n",
    "\n",
    "Formally, an ESOP for an n-variable Boolean function has the form:\n",
    "\n",
    "$$f\\left(x_{1}, \\ldots, x_{n}\\right)=\\bigoplus_{j=1}^{m}\\left(x_{1}^{p_{1, j}} \\oplus \\cdots \\oplus x_{n}^{p_{n, j}}\\right)$$\n",
    "\n",
    "Two new user-defined structures should be used.\n",
    "Here are the definitions:\n",
    "\n",
    "    newtype Term = (Int, Bool)[];\n",
    "    newtype ESOP = Term[];"
   ]
  },
  {
   "cell_type": "markdown",
   "metadata": {},
   "source": [
    "### Task 1. Simple ESOP example \n",
    "**Goal:** \n",
    "Describe the four variables function $f(x_1,x_2,x_3,x_4) = x_1x_2 + x_3\\overline{x_4}$\n",
    "using the ESOP representation."
   ]
  },
  {
   "cell_type": "code",
   "execution_count": 2,
   "metadata": {},
   "outputs": [
    {
     "name": "stderr",
     "output_type": "stream",
     "text": [
      "False ≠ True: Expected : x1x2 + x3¬x4 Got : x1x2 + x1\n",
      "Try again!\n"
     ]
    }
   ],
   "source": [
    "%kata ESOPExample_Test \n",
    "\n",
    "open Quantum.Kata.ESOPSynthesis;\n",
    "\n",
    "function ESOPExample() : ESOP {\n",
    "    let t1 = Term([(1, true), (2, true)]);\n",
    "    let t2 = Term([(1, true)]); // update the value of t2\n",
    "    return ESOP([t1, t2]);\n",
    "} "
   ]
  },
  {
   "cell_type": "markdown",
   "metadata": {},
   "source": [
    "### Task 2. Combination of two ESOP\n",
    "**Goal:** \n",
    "Compute the combination of two ESOP functions which correspond to a XOR operation of the two functions."
   ]
  },
  {
   "cell_type": "code",
   "execution_count": 3,
   "metadata": {},
   "outputs": [
    {
     "name": "stderr",
     "output_type": "stream",
     "text": [
      "/snippet_.qs(5,1): error QS6307: Not all code paths return a value.\n"
     ]
    }
   ],
   "source": [
    "%kata ESOPCombine_Test \n",
    "\n",
    "open Quantum.Kata.ESOPSynthesis;\n",
    "\n",
    "function ESOPCombine(esop1: ESOP, esop2: ESOP) : ESOP {\n",
    "    // ...\n",
    "}"
   ]
  },
  {
   "cell_type": "markdown",
   "metadata": {},
   "source": [
    "### Task 3. Convert truth table into canonical ESOP\n",
    "**Goal:** \n",
    "Convert the truth table representation into the ESOP representation.\n",
    "\n",
    "<br/>\n",
    "<details>\n",
    "  <summary><b>Need a hint? Click here</b></summary>\n",
    "You can use the AllMinterms_Reference( ) function from the <a href=\"../TruthTables/TruthTables.ipynb\">Truth tables Kata</a>.\n",
    "</details>"
   ]
  },
  {
   "cell_type": "code",
   "execution_count": 9,
   "metadata": {},
   "outputs": [
    {
     "name": "stderr",
     "output_type": "stream",
     "text": [
      "/snippet_.qs(5,1): error QS6307: Not all code paths return a value.\n"
     ]
    }
   ],
   "source": [
    "%kata ESOPfromTT_Test \n",
    "\n",
    "open Quantum.Kata.ESOPSynthesis;\n",
    "\n",
    "function ESOPfromTT(tt: TruthTable) : ESOP {\n",
    "    // ...\n",
    "}"
   ]
  },
  {
   "cell_type": "markdown",
   "metadata": {},
   "source": [
    "### Task 4. Evaluate an ESOP term\n",
    "**Goal:** \n",
    "Evaluate an ESOP term with the provided variables assignment."
   ]
  },
  {
   "cell_type": "code",
   "execution_count": 5,
   "metadata": {},
   "outputs": [
    {
     "name": "stderr",
     "output_type": "stream",
     "text": [
      "/snippet_.qs(5,1): error QS6307: Not all code paths return a value.\n"
     ]
    }
   ],
   "source": [
    "%kata ESOPEvaluateTerm_Test \n",
    "\n",
    "open Quantum.Kata.ESOPSynthesis;\n",
    "\n",
    "function ESOPEvaluateTerm(term: Term, assignment : Bool[]) : Bool {\n",
    "    // ...\n",
    "}"
   ]
  },
  {
   "cell_type": "markdown",
   "metadata": {},
   "source": [
    "### Task 5. Apply ESOP as quantum operatiom\n",
    "**Goal:** \n",
    "Apply the X operation on the target qubit, if and only if the classical state of the controls evaluate the ESOP function to true.\n",
    "\n",
    "<br/>\n",
    "<details>\n",
    "  <summary><b>Need a hint? Click here</b></summary>\n",
    "You can use the ESOPEvaluateTerm( ) function.\n",
    "</details>"
   ]
  },
  {
   "cell_type": "code",
   "execution_count": 6,
   "metadata": {},
   "outputs": [
    {
     "name": "stderr",
     "output_type": "stream",
     "text": [
      "Qubit in invalid state. Expecting: One\n",
      "\tExpected:\t1\n",
      "\tActual:\t0\n",
      "Try again!\n"
     ]
    }
   ],
   "source": [
    "%kata ESOPApplyFunction_Test \n",
    "\n",
    "open Quantum.Kata.ESOPSynthesis;\n",
    "\n",
    "operation ESOPApplyFunction(esop : ESOP, controls : Qubit[], target : Qubit) : Unit {\n",
    "    // ...\n",
    "} "
   ]
  }
 ],
 "metadata": {
  "kernelspec": {
   "display_name": "Q#",
   "language": "qsharp",
   "name": "iqsharp"
  },
  "language_info": {
   "file_extension": ".qs",
   "mimetype": "text/x-qsharp",
   "name": "qsharp",
   "version": "0.10"
  }
 },
 "nbformat": 4,
 "nbformat_minor": 2
}
